{
 "cells": [
  {
   "cell_type": "markdown",
   "metadata": {},
   "source": [
    "# 1. 환경 세팅"
   ]
  },
  {
   "cell_type": "code",
   "execution_count": null,
   "metadata": {},
   "outputs": [],
   "source": [
    "import streamlit as st\n",
    "from langchain_core.messages.chat import ChatMessage\n",
    "from langchain_openai import ChatOpenAI\n",
    "from langchain_core.output_parsers import StrOutputParser\n",
    "from langchain_teddynote.prompts import load_prompt\n",
    "from langchain_text_splitters import RecursiveCharacterTextSplitter\n",
    "from langchain_community.vectorstores import FAISS\n",
    "from langchain_core.output_parsers import StrOutputParser\n",
    "from langchain_core.runnables import RunnablePassthrough\n",
    "from langchain_openai import ChatOpenAI, OpenAIEmbeddings\n",
    "from langchain_teddynote import logging\n",
    "from langchain_community.document_loaders import PyPDFDirectoryLoader\n",
    "from dotenv import load_dotenv\n",
    "import os"
   ]
  },
  {
   "cell_type": "code",
   "execution_count": 17,
   "metadata": {},
   "outputs": [
    {
     "name": "stderr",
     "output_type": "stream",
     "text": [
      "2024-11-23 11:37:35.411 Thread 'MainThread': missing ScriptRunContext! This warning can be ignored when running in bare mode.\n",
      "2024-11-23 11:37:35.412 Thread 'MainThread': missing ScriptRunContext! This warning can be ignored when running in bare mode.\n"
     ]
    },
    {
     "name": "stdout",
     "output_type": "stream",
     "text": [
      "LangSmith 추적을 시작합니다.\n",
      "[프로젝트명]\n",
      "[Project] PDF_RAG\n"
     ]
    },
    {
     "data": {
      "text/plain": [
       "DeltaGenerator()"
      ]
     },
     "execution_count": 17,
     "metadata": {},
     "output_type": "execute_result"
    }
   ],
   "source": [
    "# API KEY 정보로드\n",
    "load_dotenv()\n",
    "\n",
    "# 프로젝트 이름을 입력합니다.\n",
    "logging.langsmith(\"[Project] PDF_RAG\")\n",
    "\n",
    "# 캐시 디렉토리 생성\n",
    "if not os.path.exists(\".cache\"):\n",
    "    os.mkdir(\".cache\")\n",
    "\n",
    "# 파일 업로드 전용 폴더\n",
    "if not os.path.exists(\".cache/files\"):\n",
    "    os.mkdir(\".cache/files\")\n",
    "\n",
    "if not os.path.exists(\".cache/embeddings\"):\n",
    "    os.mkdir(\".cache/embeddings\")\n",
    "\n",
    "st.title(\" AI웹개발자 면접튜터링🚀\")"
   ]
  },
  {
   "cell_type": "code",
   "execution_count": 33,
   "metadata": {},
   "outputs": [
    {
     "name": "stderr",
     "output_type": "stream",
     "text": [
      "2024-11-23 11:49:58.167 Thread 'MainThread': missing ScriptRunContext! This warning can be ignored when running in bare mode.\n"
     ]
    }
   ],
   "source": [
    "# 처음 1번만 실행하기 위한 코드\n",
    "if \"messages\" not in st.session_state:\n",
    "    # 대화기록을 저장하기 위한 용도로 생성한다.\n",
    "    st.session_state[\"messages\"] = []"
   ]
  },
  {
   "cell_type": "code",
   "execution_count": 34,
   "metadata": {},
   "outputs": [
    {
     "name": "stderr",
     "output_type": "stream",
     "text": [
      "2024-11-23 11:49:59.512 Thread 'MainThread': missing ScriptRunContext! This warning can be ignored when running in bare mode.\n",
      "2024-11-23 11:49:59.513 Thread 'MainThread': missing ScriptRunContext! This warning can be ignored when running in bare mode.\n",
      "2024-11-23 11:49:59.513 Thread 'MainThread': missing ScriptRunContext! This warning can be ignored when running in bare mode.\n",
      "2024-11-23 11:49:59.514 Thread 'MainThread': missing ScriptRunContext! This warning can be ignored when running in bare mode.\n",
      "2024-11-23 11:49:59.514 Thread 'MainThread': missing ScriptRunContext! This warning can be ignored when running in bare mode.\n",
      "2024-11-23 11:49:59.515 Thread 'MainThread': missing ScriptRunContext! This warning can be ignored when running in bare mode.\n",
      "2024-11-23 11:49:59.515 Thread 'MainThread': missing ScriptRunContext! This warning can be ignored when running in bare mode.\n",
      "2024-11-23 11:49:59.515 Thread 'MainThread': missing ScriptRunContext! This warning can be ignored when running in bare mode.\n",
      "2024-11-23 11:49:59.516 Thread 'MainThread': missing ScriptRunContext! This warning can be ignored when running in bare mode.\n",
      "2024-11-23 11:49:59.516 Thread 'MainThread': missing ScriptRunContext! This warning can be ignored when running in bare mode.\n"
     ]
    }
   ],
   "source": [
    "# 사이드바 생성\n",
    "with st.sidebar:\n",
    "    # 초기화 버튼 생성\n",
    "    clear_btn = st.button(\"대화 초기화\")\n",
    "\n",
    "    # 파일 업로드\n",
    "    uploaded_file = st.file_uploader(\"파일 업로드\", type=[\"pdf\"])"
   ]
  },
  {
   "cell_type": "code",
   "execution_count": 36,
   "metadata": {},
   "outputs": [],
   "source": [
    "# 이전 대화를 출력\n",
    "def print_messages():\n",
    "    for chat_message in st.session_state[\"messages\"]:\n",
    "        st.chat_message(chat_message.role).write(chat_message.content)"
   ]
  },
  {
   "cell_type": "code",
   "execution_count": 37,
   "metadata": {},
   "outputs": [],
   "source": [
    "# 새로운 메시지를 추가\n",
    "def add_message(role, message):\n",
    "    st.session_state[\"messages\"].append(ChatMessage(role=role, content=message))"
   ]
  },
  {
   "cell_type": "markdown",
   "metadata": {},
   "source": [
    "# 2. 문서 로드"
   ]
  },
  {
   "cell_type": "code",
   "execution_count": 41,
   "metadata": {},
   "outputs": [],
   "source": [
    "# 모델 선정\n",
    "model = ChatOpenAI(model=\"gpt-4o-mini\")"
   ]
  },
  {
   "cell_type": "code",
   "execution_count": 58,
   "metadata": {},
   "outputs": [],
   "source": [
    "# 파일을 캐시 저장(시간이 오래 걸리는 작업을 처리할 예정)\n",
    "@st.cache_resource(show_spinner=\"업로드한 파일을 처리 중입니다...\")\n",
    "def embed_file(file):\n",
    "    # 업로드한 파일을 캐시 디렉토리에 저장합니다.\n",
    "    file_content = file.read()\n",
    "    file_path = f\"./.cache/files/{file.name}\"\n",
    "    with open(file_path, \"wb\") as f:\n",
    "        f.write(file_content)\n",
    "\n",
    "    # 단계 1: 문서 로드(Load Documents)\n",
    "    loader = PyPDFDirectoryLoader(\"data/\")\n",
    "    docs = loader.load()\n",
    "\n",
    "    # 단계 2: 문서 분할(Split Documents)\n",
    "    text_splitter = RecursiveCharacterTextSplitter(chunk_size=1000, chunk_overlap=50)\n",
    "    split_documents = text_splitter.split_documents(docs)\n",
    "\n",
    "    # 단계 3: 임베딩(Embedding) 생성\n",
    "    embeddings = OpenAIEmbeddings()\n",
    "\n",
    "    # 단계 4: DB 생성(Create DB) 및 저장\n",
    "    # 벡터스토어를 생성합니다.\n",
    "    vectorstore = FAISS.from_documents(documents=split_documents, embedding=embeddings)\n",
    "\n",
    "    # 단계 5: 검색기(Retriever) 생성\n",
    "    # 문서에 포함되어 있는 정보를 검색하고 생성합니다.\n",
    "    retriever = vectorstore.as_retriever()\n",
    "    return retriever\n"
   ]
  },
  {
   "cell_type": "code",
   "execution_count": 61,
   "metadata": {},
   "outputs": [
    {
     "name": "stdout",
     "output_type": "stream",
     "text": [
      "85\n",
      "Machine Le ar ning 관 련  면 접  Q&A\n",
      "8\n",
      "모델이  참이라고  예측하는  경우는  FPR False Positive Rate, 실제  값이  거짓일  때 ) 과  TPR True Positive Rate, 실제 \n",
      "값이  참일  때 ) 두  경우로  나뉜다 .\n",
      "FPR 과  TPR 을  그래프에서  x 축 , y 축으로  동시에  표현한  ROC 커브를  통해  모델이  얼마나  옳은  값을  잘  예측하는지  알  수 \n",
      "있게  된다 .\n",
      "ROC 커브가  좌상단과  가까운  경우  좋은  모델이라고  판단할  수 \n",
      "{'source': 'data\\\\Machine_Learning관련_면접_QA.pdf', 'page': 7}\n"
     ]
    }
   ],
   "source": [
    "    # 문서의 개수 출력\n",
    "    print(len(docs))\n",
    "\n",
    "    # 문서의 내용 출력\n",
    "    print(docs[7].page_content[:300])\n",
    "\n",
    "    # metadata 출력\n",
    "    print(docs[7].metadata)"
   ]
  },
  {
   "cell_type": "code",
   "execution_count": 62,
   "metadata": {},
   "outputs": [],
   "source": [
    "# 체인 생성\n",
    "def create_chain(retriever, model_name=\"gpt-4o\"):\n",
    "    # 단계 6: 프롬프트 생성(Create Prompt)\n",
    "    # 프롬프트를 생성합니다.\n",
    "    prompt = load_prompt(\"prompts/RAG_project.yaml\", encoding=\"utf-8\")\n",
    "\n",
    "    # 단계 7: 언어모델(LLM) 생성\n",
    "    # 모델(LLM) 을 생성합니다.\n",
    "    llm = ChatOpenAI(model_name=model_name, temperature=0)\n",
    "\n",
    "    # 단계 8: 체인(Chain) 생성\n",
    "    chain = (\n",
    "        {\"context\": retriever, \"question\": RunnablePassthrough()}\n",
    "        | prompt\n",
    "        | llm\n",
    "        | StrOutputParser()\n",
    "    )\n",
    "    return chain"
   ]
  },
  {
   "cell_type": "code",
   "execution_count": 63,
   "metadata": {},
   "outputs": [
    {
     "name": "stderr",
     "output_type": "stream",
     "text": [
      "2024-11-23 15:46:08.437 Thread 'MainThread': missing ScriptRunContext! This warning can be ignored when running in bare mode.\n",
      "2024-11-23 15:46:08.438 Thread 'MainThread': missing ScriptRunContext! This warning can be ignored when running in bare mode.\n",
      "2024-11-23 15:46:08.439 Thread 'MainThread': missing ScriptRunContext! This warning can be ignored when running in bare mode.\n",
      "2024-11-23 15:46:08.439 Thread 'MainThread': missing ScriptRunContext! This warning can be ignored when running in bare mode.\n",
      "2024-11-23 15:46:08.439 Thread 'MainThread': missing ScriptRunContext! This warning can be ignored when running in bare mode.\n",
      "2024-11-23 15:46:08.440 Thread 'MainThread': missing ScriptRunContext! This warning can be ignored when running in bare mode.\n",
      "2024-11-23 15:46:08.440 Thread 'MainThread': missing ScriptRunContext! This warning can be ignored when running in bare mode.\n",
      "2024-11-23 15:46:08.441 Thread 'MainThread': missing ScriptRunContext! This warning can be ignored when running in bare mode.\n"
     ]
    }
   ],
   "source": [
    "# 초기화 버튼이 눌리면...\n",
    "if clear_btn:\n",
    "    st.session_state[\"messages\"] = []\n",
    "\n",
    "# 이전 대화 기록 출력\n",
    "print_messages()\n",
    "\n",
    "# 사용자의 입력\n",
    "user_input = st.chat_input(\"궁금한 내용을 물어보세요!\")\n",
    "\n",
    "# 경고 메시지를 띄우기 위한 빈 영역\n",
    "warning_msg = st.empty()\n",
    "\n",
    "# 만약에 사용자 입력이 들어오면...\n",
    "if user_input:\n",
    "    # chain 을 생성\n",
    "    chain = st.session_state[\"chain\"]\n",
    "\n",
    "    if chain is not None:\n",
    "        # 사용자의 입력\n",
    "        st.chat_message(\"user\").write(user_input)\n",
    "        # 스트리밍 호출\n",
    "        response = chain.stream(user_input)\n",
    "        with st.chat_message(\"assistant\"):\n",
    "            # 빈 공간(컨테이너)을 만들어서, 여기에 토큰을 스트리밍 출력한다.\n",
    "            container = st.empty()\n",
    "\n",
    "            ai_answer = \"\"\n",
    "            for token in response:\n",
    "                ai_answer += token\n",
    "                container.markdown(ai_answer)\n",
    "\n",
    "        # 대화기록을 저장한다.\n",
    "        add_message(\"user\", user_input)\n",
    "        add_message(\"assistant\", ai_answer)\n",
    "    else:\n",
    "        # 파일을 업로드 하라는 경고 메시지 출력\n",
    "        warning_msg.error(\"파일을 업로드 해주세요.\")"
   ]
  }
 ],
 "metadata": {
  "kernelspec": {
   "display_name": "maricecil",
   "language": "python",
   "name": "python3"
  },
  "language_info": {
   "codemirror_mode": {
    "name": "ipython",
    "version": 3
   },
   "file_extension": ".py",
   "mimetype": "text/x-python",
   "name": "python",
   "nbconvert_exporter": "python",
   "pygments_lexer": "ipython3",
   "version": "3.12.5"
  }
 },
 "nbformat": 4,
 "nbformat_minor": 2
}
